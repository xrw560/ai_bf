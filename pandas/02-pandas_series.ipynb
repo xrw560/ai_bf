{
 "cells": [
  {
   "cell_type": "markdown",
   "metadata": {},
   "source": [
    "# Pandas系列\n",
    "系列是能够保存任何类型的数据的一维标记数组。轴标签统称为索引"
   ]
  },
  {
   "cell_type": "raw",
   "metadata": {},
   "source": [
    "Pandas系列可以使用以下构造函数创建 -\n",
    "\n",
    "pandas.Series( data, index, dtype, copy)\n",
    "编号    参数    描述\n",
    "1       data    数据采取各种形式，如：ndarray，list，constants\n",
    "2       index   索引值必须是唯一的和散列的，与数据的长度相同。 默认np.arange(n)如果没有索引被传递。\n",
    "3       dtype   dtype用于数据类型。如果没有，将推断数据类型\n",
    "4       copy    复制数据，默认为false。\n",
    "\n"
   ]
  },
  {
   "cell_type": "code",
   "execution_count": 7,
   "metadata": {
    "collapsed": true
   },
   "outputs": [],
   "source": [
    "#引入模块\n",
    "import pandas as pd\n",
    "import numpy as np"
   ]
  },
  {
   "cell_type": "code",
   "execution_count": 8,
   "metadata": {},
   "outputs": [
    {
     "data": {
      "text/plain": [
       "Series([], dtype: float64)"
      ]
     },
     "execution_count": 8,
     "metadata": {},
     "output_type": "execute_result"
    }
   ],
   "source": [
    "#创建一个空的系列\n",
    "ser01 = pd.Series()\n",
    "ser01"
   ]
  },
  {
   "cell_type": "markdown",
   "metadata": {},
   "source": [
    "# 从ndarray创建一个系列"
   ]
  },
  {
   "cell_type": "code",
   "execution_count": 10,
   "metadata": {},
   "outputs": [
    {
     "data": {
      "text/plain": [
       "0    a\n",
       "1    b\n",
       "2    c\n",
       "3    d\n",
       "dtype: object"
      ]
     },
     "execution_count": 10,
     "metadata": {},
     "output_type": "execute_result"
    }
   ],
   "source": [
    "\n",
    "data = np.array(['a','b','c','d'])\n",
    "ser02 = pd.Series(data)\n",
    "ser02\n",
    "#这里没有传递任何索引，因此默认情况下，它分配了从0到len(data)-1的索引，即：0到3。"
   ]
  },
  {
   "cell_type": "code",
   "execution_count": 13,
   "metadata": {},
   "outputs": [
    {
     "data": {
      "text/plain": [
       "name       a\n",
       "age        b\n",
       "sex        c\n",
       "address    d\n",
       "dtype: object"
      ]
     },
     "execution_count": 13,
     "metadata": {},
     "output_type": "execute_result"
    }
   ],
   "source": [
    "#指定索引\n",
    "data = np.array(['a','b','c','d'])\n",
    "# ser02 = pd.Series(data,index=[100,101,102,103])\n",
    "ser02 = pd.Series(data,index=['name','age','sex','address'])\n",
    "ser02"
   ]
  },
  {
   "cell_type": "markdown",
   "metadata": {},
   "source": [
    "# 从字典创建一个系列\n",
    "字典(dict)可以作为输入传递，如果没有指定索引，则按排序顺序取得字典键以构造索引。 如果传递了索引，索引中与标签对应的数据中的值将被拉出。\n"
   ]
  },
  {
   "cell_type": "code",
   "execution_count": 17,
   "metadata": {},
   "outputs": [
    {
     "data": {
      "text/plain": [
       "a    1\n",
       "b    2\n",
       "c    3\n",
       "dtype: int64"
      ]
     },
     "execution_count": 17,
     "metadata": {},
     "output_type": "execute_result"
    }
   ],
   "source": [
    "data = {'a':1,'b':2,'c':3}\n",
    "ser03 = pd.Series(data)\n",
    "ser03"
   ]
  },
  {
   "cell_type": "code",
   "execution_count": 18,
   "metadata": {},
   "outputs": [
    {
     "data": {
      "text/plain": [
       "a    1.0\n",
       "b    2.0\n",
       "c    3.0\n",
       "d    NaN\n",
       "dtype: float64"
      ]
     },
     "execution_count": 18,
     "metadata": {},
     "output_type": "execute_result"
    }
   ],
   "source": [
    "#指定索引\n",
    "data = {'a':1,'b':2,'c':3}\n",
    "ser03 = pd.Series(data,index = ['a','b','c','d'])\n",
    "ser03"
   ]
  },
  {
   "cell_type": "markdown",
   "metadata": {},
   "source": [
    "# 从标量创建一个系列\n",
    "如果数据是标量值，提供索引将重复该值以匹配索引的长度"
   ]
  },
  {
   "cell_type": "code",
   "execution_count": 21,
   "metadata": {},
   "outputs": [
    {
     "data": {
      "text/plain": [
       "0    5\n",
       "1    5\n",
       "2    5\n",
       "3    5\n",
       "dtype: int64"
      ]
     },
     "execution_count": 21,
     "metadata": {},
     "output_type": "execute_result"
    }
   ],
   "source": [
    "ser04 = pd.Series(5,index = [0,1,2,3])\n",
    "ser04"
   ]
  },
  {
   "cell_type": "markdown",
   "metadata": {},
   "source": [
    "# 从具有位置的系列中访问数据\n",
    "系列中的数据可以使用类似访问narray中的数据来访问"
   ]
  },
  {
   "cell_type": "code",
   "execution_count": 30,
   "metadata": {},
   "outputs": [
    {
     "data": {
      "text/plain": [
       "5"
      ]
     },
     "execution_count": 30,
     "metadata": {},
     "output_type": "execute_result"
    }
   ],
   "source": [
    "#检索第一个元素。\n",
    "ser05 = pd.Series([1,2,3,4,5],index = ['a','b','c','d','e'])\n",
    "# ser05[1]\n",
    "# ser05['a']\n",
    "# ser05['e']"
   ]
  },
  {
   "cell_type": "code",
   "execution_count": 58,
   "metadata": {},
   "outputs": [
    {
     "data": {
      "text/plain": [
       "a    1\n",
       "b    2\n",
       "dtype: int64"
      ]
     },
     "execution_count": 58,
     "metadata": {},
     "output_type": "execute_result"
    }
   ],
   "source": [
    "#检索系列中的前三个元素\n",
    "ser05 = pd.Series([1,2,3,4,5],index = ['a','b','c','d','e'])\n",
    "#通过索引来获取数据\n",
    "# ser05[:3]\n",
    "# ser05[::2]\n",
    "# ser05[4:2:-1]\n",
    "#通过标签（下标值）来获取数据\n",
    "# ser05['b':'d']\n",
    "# ser05['a':'d':2]\n",
    "# ser05['e':'c':-1]\n",
    "# ser05[['a','b']]"
   ]
  },
  {
   "cell_type": "markdown",
   "metadata": {
    "collapsed": true
   },
   "source": [
    "# 系列的基本属性"
   ]
  },
  {
   "cell_type": "raw",
   "metadata": {},
   "source": [
    "编号\t属性或方法\t描述\n",
    "1\t  axes\t    返回行轴标签列表。\n",
    "2\t  dtype\t    返回对象的数据类型(dtype)。\n",
    "3\t  empty   \t如果系列为空，则返回True。\n",
    "4\t  ndim\t    返回底层数据的维数，默认定义：1。\n",
    "5\t  size\t    返回基础数据中的元素数。\n",
    "6\t  values\t 将系列作为ndarray返回。\n",
    "7\t  head()\t 返回前n行。\n",
    "8\t  tail()\t 返回最后n行。"
   ]
  },
  {
   "cell_type": "code",
   "execution_count": 2,
   "metadata": {
    "collapsed": true
   },
   "outputs": [],
   "source": [
    "#引入模块\n",
    "# import pandas as pd\n",
    "# import numpy as np"
   ]
  },
  {
   "cell_type": "code",
   "execution_count": 14,
   "metadata": {},
   "outputs": [
    {
     "data": {
      "text/plain": [
       "0    0.295414\n",
       "1   -0.557671\n",
       "2   -1.145690\n",
       "3    1.004863\n",
       "dtype: float64"
      ]
     },
     "execution_count": 14,
     "metadata": {},
     "output_type": "execute_result"
    }
   ],
   "source": [
    "#创建一个由随机的ndarray的系列\n",
    "ser06 = pd.Series(np.random.randn(4))\n",
    "ser06"
   ]
  },
  {
   "cell_type": "code",
   "execution_count": 16,
   "metadata": {},
   "outputs": [
    {
     "data": {
      "text/plain": [
       "[RangeIndex(start=0, stop=4, step=1)]"
      ]
     },
     "execution_count": 16,
     "metadata": {},
     "output_type": "execute_result"
    }
   ],
   "source": [
    "# 属性1：axes 返回系列的标签列表\n",
    "ser06.axes"
   ]
  },
  {
   "cell_type": "code",
   "execution_count": 19,
   "metadata": {},
   "outputs": [
    {
     "data": {
      "text/plain": [
       "dtype('float64')"
      ]
     },
     "execution_count": 19,
     "metadata": {},
     "output_type": "execute_result"
    }
   ],
   "source": [
    "#属性2：dtype    返回对象的数据类型(dtype)。\n",
    "ser06.dtype"
   ]
  },
  {
   "cell_type": "code",
   "execution_count": 20,
   "metadata": {},
   "outputs": [
    {
     "data": {
      "text/plain": [
       "False"
      ]
     },
     "execution_count": 20,
     "metadata": {},
     "output_type": "execute_result"
    }
   ],
   "source": [
    "#属性3：empty    返回布尔值，表示对象是否为空。返回True则表示对象为空。\n",
    "ser06.empty"
   ]
  },
  {
   "cell_type": "code",
   "execution_count": 21,
   "metadata": {},
   "outputs": [
    {
     "data": {
      "text/plain": [
       "1"
      ]
     },
     "execution_count": 21,
     "metadata": {},
     "output_type": "execute_result"
    }
   ],
   "source": [
    "#属性4：ndim    返回对象的维数。根据定义，一个系列是一个1D数据结构，\n",
    "ser06.ndim"
   ]
  },
  {
   "cell_type": "code",
   "execution_count": 22,
   "metadata": {},
   "outputs": [
    {
     "data": {
      "text/plain": [
       "4"
      ]
     },
     "execution_count": 22,
     "metadata": {},
     "output_type": "execute_result"
    }
   ],
   "source": [
    "#属性5：size  返回系列的大小(长度)\n",
    "ser06.size"
   ]
  },
  {
   "cell_type": "code",
   "execution_count": 23,
   "metadata": {},
   "outputs": [
    {
     "data": {
      "text/plain": [
       "array([ 0.29541392, -0.55767149, -1.1456904 ,  1.00486286])"
      ]
     },
     "execution_count": 23,
     "metadata": {},
     "output_type": "execute_result"
    }
   ],
   "source": [
    "#属性6：values 以数组形式返回系列中的实际数据值。\n",
    "ser06.values"
   ]
  },
  {
   "cell_type": "code",
   "execution_count": 25,
   "metadata": {},
   "outputs": [
    {
     "data": {
      "text/plain": [
       "0    0.295414\n",
       "1   -0.557671\n",
       "dtype: float64"
      ]
     },
     "execution_count": 25,
     "metadata": {},
     "output_type": "execute_result"
    }
   ],
   "source": [
    "#属性7：head 返回前n行\n",
    "# ser06.head\n",
    "ser06.head(2)"
   ]
  },
  {
   "cell_type": "code",
   "execution_count": 28,
   "metadata": {},
   "outputs": [
    {
     "data": {
      "text/plain": [
       "2   -1.145690\n",
       "3    1.004863\n",
       "dtype: float64"
      ]
     },
     "execution_count": 28,
     "metadata": {},
     "output_type": "execute_result"
    }
   ],
   "source": [
    "#属性8：tail 返回最后n行\n",
    "ser06.tail(2)"
   ]
  },
  {
   "cell_type": "code",
   "execution_count": null,
   "metadata": {
    "collapsed": true
   },
   "outputs": [],
   "source": []
  }
 ],
 "metadata": {
  "kernelspec": {
   "display_name": "Python 3",
   "language": "python",
   "name": "python3"
  },
  "language_info": {
   "codemirror_mode": {
    "name": "ipython",
    "version": 3
   },
   "file_extension": ".py",
   "mimetype": "text/x-python",
   "name": "python",
   "nbconvert_exporter": "python",
   "pygments_lexer": "ipython3",
   "version": "3.6.2"
  }
 },
 "nbformat": 4,
 "nbformat_minor": 2
}
